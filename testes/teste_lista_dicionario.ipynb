{
 "cells": [
  {
   "cell_type": "code",
   "execution_count": 3,
   "metadata": {},
   "outputs": [
    {
     "name": "stdout",
     "output_type": "stream",
     "text": [
      "{'a': 4, 'b': 0, 'c': 1, 'd': 0, 'e': 1, 'f': 0, 'g': 0, 'h': 0, 'i': 2, 'j': 0, 'k': 0, 'l': 3, 'm': 1, 'n': 3, 'o': 6, 'p': 1, 'q': 0, 'r': 1, 's': 1, 't': 3, 'u': 4, 'v': 2, 'w': 0, 'x': 0, 'y': 0, 'z': 0}\n"
     ]
    }
   ],
   "source": [
    "letters = list(\"Ela partiu! e nunca mais voltou! Não voltou não...\")\n",
    "alphabet = {}\n",
    "\n",
    "'''\n",
    " Usei apenas a população com o alfabeto de a - z por preguiça pura e simples\n",
    "'''\n",
    "for char_code in range(ord('a'), ord('z')+1):\n",
    "    char = chr(char_code)\n",
    "    alphabet[char] = 0\n",
    "\n",
    "for letter in letters:\n",
    "    if letter in alphabet:\n",
    "        alphabet[letter] += 1\n",
    "\n",
    "print(alphabet)\n"
   ]
  },
  {
   "cell_type": "markdown",
   "metadata": {},
   "source": [
    "Desafio proposto por uma aluna, realizei a implementação apenas por recordação.\n",
    "A dificuldade apresentada era de contar a quantidade de vezes que uma letra aparece em uma string ou conjunto de strings"
   ]
  },
  {
   "cell_type": "markdown",
   "metadata": {},
   "source": []
  },
  {
   "cell_type": "markdown",
   "metadata": {},
   "source": []
  }
 ],
 "metadata": {
  "kernelspec": {
   "display_name": "Python 3",
   "language": "python",
   "name": "python3"
  },
  "language_info": {
   "codemirror_mode": {
    "name": "ipython",
    "version": 3
   },
   "file_extension": ".py",
   "mimetype": "text/x-python",
   "name": "python",
   "nbconvert_exporter": "python",
   "pygments_lexer": "ipython3",
   "version": "3.11.2"
  }
 },
 "nbformat": 4,
 "nbformat_minor": 2
}
